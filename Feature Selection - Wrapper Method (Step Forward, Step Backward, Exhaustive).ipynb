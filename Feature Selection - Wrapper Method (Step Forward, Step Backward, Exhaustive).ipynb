{
 "cells": [
  {
   "cell_type": "markdown",
   "metadata": {},
   "source": [
    "### Step Forward Selection (SFS)"
   ]
  },
  {
   "cell_type": "code",
   "execution_count": 2,
   "metadata": {},
   "outputs": [
    {
     "name": "stderr",
     "output_type": "stream",
     "text": [
      "<frozen importlib._bootstrap>:219: RuntimeWarning: numpy.ufunc size changed, may indicate binary incompatibility. Expected 192 from C header, got 216 from PyObject\n",
      "<frozen importlib._bootstrap>:219: RuntimeWarning: numpy.ufunc size changed, may indicate binary incompatibility. Expected 192 from C header, got 216 from PyObject\n",
      "<frozen importlib._bootstrap>:219: RuntimeWarning: numpy.ufunc size changed, may indicate binary incompatibility. Expected 192 from C header, got 216 from PyObject\n"
     ]
    }
   ],
   "source": [
    "import numpy as np\n",
    "import pandas as pd\n",
    "import seaborn as sns\n",
    "import matplotlib.pyplot as plt\n",
    "%matplotlib inline\n",
    "\n",
    "\n",
    "from sklearn.model_selection import train_test_split\n",
    "from sklearn.ensemble import RandomForestClassifier, RandomForestRegressor\n",
    "from sklearn.metrics import roc_auc_score\n",
    "from mlxtend.feature_selection import SequentialFeatureSelector as SFS\n",
    "from sklearn.datasets import load_wine\n",
    "from sklearn.preprocessing import StandardScaler"
   ]
  },
  {
   "cell_type": "code",
   "execution_count": 3,
   "metadata": {},
   "outputs": [],
   "source": [
    "data = load_wine()"
   ]
  },
  {
   "cell_type": "code",
   "execution_count": 4,
   "metadata": {},
   "outputs": [
    {
     "data": {
      "text/plain": [
       "dict_keys(['data', 'target', 'frame', 'target_names', 'DESCR', 'feature_names'])"
      ]
     },
     "execution_count": 4,
     "metadata": {},
     "output_type": "execute_result"
    }
   ],
   "source": [
    "data.keys()"
   ]
  },
  {
   "cell_type": "code",
   "execution_count": 5,
   "metadata": {},
   "outputs": [
    {
     "name": "stdout",
     "output_type": "stream",
     "text": [
      ".. _wine_dataset:\n",
      "\n",
      "Wine recognition dataset\n",
      "------------------------\n",
      "\n",
      "**Data Set Characteristics:**\n",
      "\n",
      "    :Number of Instances: 178 (50 in each of three classes)\n",
      "    :Number of Attributes: 13 numeric, predictive attributes and the class\n",
      "    :Attribute Information:\n",
      " \t\t- Alcohol\n",
      " \t\t- Malic acid\n",
      " \t\t- Ash\n",
      "\t\t- Alcalinity of ash  \n",
      " \t\t- Magnesium\n",
      "\t\t- Total phenols\n",
      " \t\t- Flavanoids\n",
      " \t\t- Nonflavanoid phenols\n",
      " \t\t- Proanthocyanins\n",
      "\t\t- Color intensity\n",
      " \t\t- Hue\n",
      " \t\t- OD280/OD315 of diluted wines\n",
      " \t\t- Proline\n",
      "\n",
      "    - class:\n",
      "            - class_0\n",
      "            - class_1\n",
      "            - class_2\n",
      "\t\t\n",
      "    :Summary Statistics:\n",
      "    \n",
      "    ============================= ==== ===== ======= =====\n",
      "                                   Min   Max   Mean     SD\n",
      "    ============================= ==== ===== ======= =====\n",
      "    Alcohol:                      11.0  14.8    13.0   0.8\n",
      "    Malic Acid:                   0.74  5.80    2.34  1.12\n",
      "    Ash:                          1.36  3.23    2.36  0.27\n",
      "    Alcalinity of Ash:            10.6  30.0    19.5   3.3\n",
      "    Magnesium:                    70.0 162.0    99.7  14.3\n",
      "    Total Phenols:                0.98  3.88    2.29  0.63\n",
      "    Flavanoids:                   0.34  5.08    2.03  1.00\n",
      "    Nonflavanoid Phenols:         0.13  0.66    0.36  0.12\n",
      "    Proanthocyanins:              0.41  3.58    1.59  0.57\n",
      "    Colour Intensity:              1.3  13.0     5.1   2.3\n",
      "    Hue:                          0.48  1.71    0.96  0.23\n",
      "    OD280/OD315 of diluted wines: 1.27  4.00    2.61  0.71\n",
      "    Proline:                       278  1680     746   315\n",
      "    ============================= ==== ===== ======= =====\n",
      "\n",
      "    :Missing Attribute Values: None\n",
      "    :Class Distribution: class_0 (59), class_1 (71), class_2 (48)\n",
      "    :Creator: R.A. Fisher\n",
      "    :Donor: Michael Marshall (MARSHALL%PLU@io.arc.nasa.gov)\n",
      "    :Date: July, 1988\n",
      "\n",
      "This is a copy of UCI ML Wine recognition datasets.\n",
      "https://archive.ics.uci.edu/ml/machine-learning-databases/wine/wine.data\n",
      "\n",
      "The data is the results of a chemical analysis of wines grown in the same\n",
      "region in Italy by three different cultivators. There are thirteen different\n",
      "measurements taken for different constituents found in the three types of\n",
      "wine.\n",
      "\n",
      "Original Owners: \n",
      "\n",
      "Forina, M. et al, PARVUS - \n",
      "An Extendible Package for Data Exploration, Classification and Correlation. \n",
      "Institute of Pharmaceutical and Food Analysis and Technologies,\n",
      "Via Brigata Salerno, 16147 Genoa, Italy.\n",
      "\n",
      "Citation:\n",
      "\n",
      "Lichman, M. (2013). UCI Machine Learning Repository\n",
      "[https://archive.ics.uci.edu/ml]. Irvine, CA: University of California,\n",
      "School of Information and Computer Science. \n",
      "\n",
      ".. topic:: References\n",
      "\n",
      "  (1) S. Aeberhard, D. Coomans and O. de Vel, \n",
      "  Comparison of Classifiers in High Dimensional Settings, \n",
      "  Tech. Rep. no. 92-02, (1992), Dept. of Computer Science and Dept. of  \n",
      "  Mathematics and Statistics, James Cook University of North Queensland. \n",
      "  (Also submitted to Technometrics). \n",
      "\n",
      "  The data was used with many others for comparing various \n",
      "  classifiers. The classes are separable, though only RDA \n",
      "  has achieved 100% correct classification. \n",
      "  (RDA : 100%, QDA 99.4%, LDA 98.9%, 1NN 96.1% (z-transformed data)) \n",
      "  (All results using the leave-one-out technique) \n",
      "\n",
      "  (2) S. Aeberhard, D. Coomans and O. de Vel, \n",
      "  \"THE CLASSIFICATION PERFORMANCE OF RDA\" \n",
      "  Tech. Rep. no. 92-01, (1992), Dept. of Computer Science and Dept. of \n",
      "  Mathematics and Statistics, James Cook University of North Queensland. \n",
      "  (Also submitted to Journal of Chemometrics).\n",
      "\n"
     ]
    }
   ],
   "source": [
    "print(data.DESCR)"
   ]
  },
  {
   "cell_type": "code",
   "execution_count": 7,
   "metadata": {},
   "outputs": [],
   "source": [
    "X = pd.DataFrame(data.data)\n",
    "y = pd.DataFrame(data.target)"
   ]
  },
  {
   "cell_type": "code",
   "execution_count": 8,
   "metadata": {},
   "outputs": [],
   "source": [
    "X.columns = data.feature_names"
   ]
  },
  {
   "cell_type": "code",
   "execution_count": 9,
   "metadata": {},
   "outputs": [
    {
     "data": {
      "text/html": [
       "<div>\n",
       "<style scoped>\n",
       "    .dataframe tbody tr th:only-of-type {\n",
       "        vertical-align: middle;\n",
       "    }\n",
       "\n",
       "    .dataframe tbody tr th {\n",
       "        vertical-align: top;\n",
       "    }\n",
       "\n",
       "    .dataframe thead th {\n",
       "        text-align: right;\n",
       "    }\n",
       "</style>\n",
       "<table border=\"1\" class=\"dataframe\">\n",
       "  <thead>\n",
       "    <tr style=\"text-align: right;\">\n",
       "      <th></th>\n",
       "      <th>alcohol</th>\n",
       "      <th>malic_acid</th>\n",
       "      <th>ash</th>\n",
       "      <th>alcalinity_of_ash</th>\n",
       "      <th>magnesium</th>\n",
       "      <th>total_phenols</th>\n",
       "      <th>flavanoids</th>\n",
       "      <th>nonflavanoid_phenols</th>\n",
       "      <th>proanthocyanins</th>\n",
       "      <th>color_intensity</th>\n",
       "      <th>hue</th>\n",
       "      <th>od280/od315_of_diluted_wines</th>\n",
       "      <th>proline</th>\n",
       "    </tr>\n",
       "  </thead>\n",
       "  <tbody>\n",
       "    <tr>\n",
       "      <th>0</th>\n",
       "      <td>14.23</td>\n",
       "      <td>1.71</td>\n",
       "      <td>2.43</td>\n",
       "      <td>15.6</td>\n",
       "      <td>127.0</td>\n",
       "      <td>2.80</td>\n",
       "      <td>3.06</td>\n",
       "      <td>0.28</td>\n",
       "      <td>2.29</td>\n",
       "      <td>5.64</td>\n",
       "      <td>1.04</td>\n",
       "      <td>3.92</td>\n",
       "      <td>1065.0</td>\n",
       "    </tr>\n",
       "    <tr>\n",
       "      <th>1</th>\n",
       "      <td>13.20</td>\n",
       "      <td>1.78</td>\n",
       "      <td>2.14</td>\n",
       "      <td>11.2</td>\n",
       "      <td>100.0</td>\n",
       "      <td>2.65</td>\n",
       "      <td>2.76</td>\n",
       "      <td>0.26</td>\n",
       "      <td>1.28</td>\n",
       "      <td>4.38</td>\n",
       "      <td>1.05</td>\n",
       "      <td>3.40</td>\n",
       "      <td>1050.0</td>\n",
       "    </tr>\n",
       "    <tr>\n",
       "      <th>2</th>\n",
       "      <td>13.16</td>\n",
       "      <td>2.36</td>\n",
       "      <td>2.67</td>\n",
       "      <td>18.6</td>\n",
       "      <td>101.0</td>\n",
       "      <td>2.80</td>\n",
       "      <td>3.24</td>\n",
       "      <td>0.30</td>\n",
       "      <td>2.81</td>\n",
       "      <td>5.68</td>\n",
       "      <td>1.03</td>\n",
       "      <td>3.17</td>\n",
       "      <td>1185.0</td>\n",
       "    </tr>\n",
       "    <tr>\n",
       "      <th>3</th>\n",
       "      <td>14.37</td>\n",
       "      <td>1.95</td>\n",
       "      <td>2.50</td>\n",
       "      <td>16.8</td>\n",
       "      <td>113.0</td>\n",
       "      <td>3.85</td>\n",
       "      <td>3.49</td>\n",
       "      <td>0.24</td>\n",
       "      <td>2.18</td>\n",
       "      <td>7.80</td>\n",
       "      <td>0.86</td>\n",
       "      <td>3.45</td>\n",
       "      <td>1480.0</td>\n",
       "    </tr>\n",
       "    <tr>\n",
       "      <th>4</th>\n",
       "      <td>13.24</td>\n",
       "      <td>2.59</td>\n",
       "      <td>2.87</td>\n",
       "      <td>21.0</td>\n",
       "      <td>118.0</td>\n",
       "      <td>2.80</td>\n",
       "      <td>2.69</td>\n",
       "      <td>0.39</td>\n",
       "      <td>1.82</td>\n",
       "      <td>4.32</td>\n",
       "      <td>1.04</td>\n",
       "      <td>2.93</td>\n",
       "      <td>735.0</td>\n",
       "    </tr>\n",
       "  </tbody>\n",
       "</table>\n",
       "</div>"
      ],
      "text/plain": [
       "   alcohol  malic_acid   ash  alcalinity_of_ash  magnesium  total_phenols  \\\n",
       "0    14.23        1.71  2.43               15.6      127.0           2.80   \n",
       "1    13.20        1.78  2.14               11.2      100.0           2.65   \n",
       "2    13.16        2.36  2.67               18.6      101.0           2.80   \n",
       "3    14.37        1.95  2.50               16.8      113.0           3.85   \n",
       "4    13.24        2.59  2.87               21.0      118.0           2.80   \n",
       "\n",
       "   flavanoids  nonflavanoid_phenols  proanthocyanins  color_intensity   hue  \\\n",
       "0        3.06                  0.28             2.29             5.64  1.04   \n",
       "1        2.76                  0.26             1.28             4.38  1.05   \n",
       "2        3.24                  0.30             2.81             5.68  1.03   \n",
       "3        3.49                  0.24             2.18             7.80  0.86   \n",
       "4        2.69                  0.39             1.82             4.32  1.04   \n",
       "\n",
       "   od280/od315_of_diluted_wines  proline  \n",
       "0                          3.92   1065.0  \n",
       "1                          3.40   1050.0  \n",
       "2                          3.17   1185.0  \n",
       "3                          3.45   1480.0  \n",
       "4                          2.93    735.0  "
      ]
     },
     "execution_count": 9,
     "metadata": {},
     "output_type": "execute_result"
    }
   ],
   "source": [
    "X.head()"
   ]
  },
  {
   "cell_type": "code",
   "execution_count": 10,
   "metadata": {},
   "outputs": [
    {
     "data": {
      "text/plain": [
       "alcohol                         0\n",
       "malic_acid                      0\n",
       "ash                             0\n",
       "alcalinity_of_ash               0\n",
       "magnesium                       0\n",
       "total_phenols                   0\n",
       "flavanoids                      0\n",
       "nonflavanoid_phenols            0\n",
       "proanthocyanins                 0\n",
       "color_intensity                 0\n",
       "hue                             0\n",
       "od280/od315_of_diluted_wines    0\n",
       "proline                         0\n",
       "dtype: int64"
      ]
     },
     "execution_count": 10,
     "metadata": {},
     "output_type": "execute_result"
    }
   ],
   "source": [
    "X.isnull().sum()"
   ]
  },
  {
   "cell_type": "code",
   "execution_count": 11,
   "metadata": {},
   "outputs": [],
   "source": [
    "X_train, X_test, y_train, y_test = train_test_split(X,y, test_size=0.2, random_state=0)"
   ]
  },
  {
   "cell_type": "code",
   "execution_count": 12,
   "metadata": {},
   "outputs": [
    {
     "data": {
      "text/plain": [
       "((142, 13), (36, 13))"
      ]
     },
     "execution_count": 12,
     "metadata": {},
     "output_type": "execute_result"
    }
   ],
   "source": [
    "X_train.shape, X_test.shape"
   ]
  },
  {
   "cell_type": "markdown",
   "metadata": {},
   "source": [
    "### Step Forward Selection"
   ]
  },
  {
   "cell_type": "code",
   "execution_count": 34,
   "metadata": {},
   "outputs": [
    {
     "name": "stderr",
     "output_type": "stream",
     "text": [
      "[Parallel(n_jobs=-5)]: Using backend LokyBackend with 4 concurrent workers.\n",
      "[Parallel(n_jobs=-5)]: Done  13 out of  13 | elapsed:    6.4s remaining:    0.0s\n",
      "[Parallel(n_jobs=-5)]: Done  13 out of  13 | elapsed:    6.4s finished\n",
      "\n",
      "[2021-02-11 09:51:34] Features: 1/7 -- score: 0.7818627450980392[Parallel(n_jobs=-5)]: Using backend LokyBackend with 4 concurrent workers.\n",
      "[Parallel(n_jobs=-5)]: Done  12 out of  12 | elapsed:    6.6s remaining:    0.0s\n",
      "[Parallel(n_jobs=-5)]: Done  12 out of  12 | elapsed:    6.6s finished\n",
      "\n",
      "[2021-02-11 09:51:40] Features: 2/7 -- score: 0.9579248366013071[Parallel(n_jobs=-5)]: Using backend LokyBackend with 4 concurrent workers.\n",
      "[Parallel(n_jobs=-5)]: Done  11 out of  11 | elapsed:    5.4s finished\n",
      "\n",
      "[2021-02-11 09:51:46] Features: 3/7 -- score: 0.9861111111111112[Parallel(n_jobs=-5)]: Using backend LokyBackend with 4 concurrent workers.\n",
      "[Parallel(n_jobs=-5)]: Done  10 out of  10 | elapsed:    5.1s finished\n",
      "\n",
      "[2021-02-11 09:51:51] Features: 4/7 -- score: 0.9861111111111112[Parallel(n_jobs=-5)]: Using backend LokyBackend with 4 concurrent workers.\n",
      "[Parallel(n_jobs=-5)]: Done   7 out of   9 | elapsed:    3.7s remaining:    1.0s\n",
      "[Parallel(n_jobs=-5)]: Done   9 out of   9 | elapsed:    4.8s finished\n",
      "\n",
      "[2021-02-11 09:51:56] Features: 5/7 -- score: 0.9930555555555556[Parallel(n_jobs=-5)]: Using backend LokyBackend with 4 concurrent workers.\n",
      "[Parallel(n_jobs=-5)]: Done   6 out of   8 | elapsed:    4.1s remaining:    1.3s\n",
      "[Parallel(n_jobs=-5)]: Done   8 out of   8 | elapsed:    4.2s finished\n",
      "\n",
      "[2021-02-11 09:52:01] Features: 6/7 -- score: 0.9861111111111112[Parallel(n_jobs=-5)]: Using backend LokyBackend with 4 concurrent workers.\n",
      "[Parallel(n_jobs=-5)]: Done   4 out of   7 | elapsed:    1.5s remaining:    1.1s\n",
      "[Parallel(n_jobs=-5)]: Done   7 out of   7 | elapsed:    3.0s finished\n",
      "\n",
      "[2021-02-11 09:52:04] Features: 7/7 -- score: 0.9930555555555556"
     ]
    }
   ],
   "source": [
    "sfs = SFS(RandomForestClassifier(n_estimators = 100, random_state = 0, n_jobs = -5),\n",
    "          k_features = 7,\n",
    "          forward = True,\n",
    "          floating = False, \n",
    "          verbose = 2,\n",
    "          scoring = 'accuracy',\n",
    "          cv = 8,\n",
    "          n_jobs = -5\n",
    "         ).fit(X_train, y_train)"
   ]
  },
  {
   "cell_type": "code",
   "execution_count": 35,
   "metadata": {},
   "outputs": [
    {
     "data": {
      "text/plain": [
       "('alcohol',\n",
       " 'malic_acid',\n",
       " 'magnesium',\n",
       " 'flavanoids',\n",
       " 'nonflavanoid_phenols',\n",
       " 'color_intensity',\n",
       " 'od280/od315_of_diluted_wines')"
      ]
     },
     "execution_count": 35,
     "metadata": {},
     "output_type": "execute_result"
    }
   ],
   "source": [
    "sfs.k_feature_names_"
   ]
  },
  {
   "cell_type": "code",
   "execution_count": 36,
   "metadata": {},
   "outputs": [
    {
     "data": {
      "text/plain": [
       "0.9930555555555556"
      ]
     },
     "execution_count": 36,
     "metadata": {},
     "output_type": "execute_result"
    }
   ],
   "source": [
    "sfs.k_score_"
   ]
  },
  {
   "cell_type": "code",
   "execution_count": 37,
   "metadata": {},
   "outputs": [
    {
     "data": {
      "text/html": [
       "<div>\n",
       "<style scoped>\n",
       "    .dataframe tbody tr th:only-of-type {\n",
       "        vertical-align: middle;\n",
       "    }\n",
       "\n",
       "    .dataframe tbody tr th {\n",
       "        vertical-align: top;\n",
       "    }\n",
       "\n",
       "    .dataframe thead th {\n",
       "        text-align: right;\n",
       "    }\n",
       "</style>\n",
       "<table border=\"1\" class=\"dataframe\">\n",
       "  <thead>\n",
       "    <tr style=\"text-align: right;\">\n",
       "      <th></th>\n",
       "      <th>feature_idx</th>\n",
       "      <th>cv_scores</th>\n",
       "      <th>avg_score</th>\n",
       "      <th>feature_names</th>\n",
       "      <th>ci_bound</th>\n",
       "      <th>std_dev</th>\n",
       "      <th>std_err</th>\n",
       "    </tr>\n",
       "  </thead>\n",
       "  <tbody>\n",
       "    <tr>\n",
       "      <th>1</th>\n",
       "      <td>(6,)</td>\n",
       "      <td>[0.8333333333333334, 0.6666666666666666, 0.888...</td>\n",
       "      <td>0.781863</td>\n",
       "      <td>(flavanoids,)</td>\n",
       "      <td>0.066689</td>\n",
       "      <td>0.0765144</td>\n",
       "      <td>0.0289197</td>\n",
       "    </tr>\n",
       "    <tr>\n",
       "      <th>2</th>\n",
       "      <td>(6, 9)</td>\n",
       "      <td>[0.9444444444444444, 0.8888888888888888, 1.0, ...</td>\n",
       "      <td>0.957925</td>\n",
       "      <td>(flavanoids, color_intensity)</td>\n",
       "      <td>0.0321759</td>\n",
       "      <td>0.0369164</td>\n",
       "      <td>0.0139531</td>\n",
       "    </tr>\n",
       "    <tr>\n",
       "      <th>3</th>\n",
       "      <td>(4, 6, 9)</td>\n",
       "      <td>[0.9444444444444444, 1.0, 1.0, 1.0, 1.0, 0.944...</td>\n",
       "      <td>0.986111</td>\n",
       "      <td>(magnesium, flavanoids, color_intensity)</td>\n",
       "      <td>0.0209671</td>\n",
       "      <td>0.0240563</td>\n",
       "      <td>0.00909241</td>\n",
       "    </tr>\n",
       "    <tr>\n",
       "      <th>4</th>\n",
       "      <td>(0, 4, 6, 9)</td>\n",
       "      <td>[1.0, 0.9444444444444444, 1.0, 1.0, 1.0, 0.944...</td>\n",
       "      <td>0.986111</td>\n",
       "      <td>(alcohol, magnesium, flavanoids, color_intensity)</td>\n",
       "      <td>0.0209671</td>\n",
       "      <td>0.0240563</td>\n",
       "      <td>0.00909241</td>\n",
       "    </tr>\n",
       "    <tr>\n",
       "      <th>5</th>\n",
       "      <td>(0, 4, 6, 9, 11)</td>\n",
       "      <td>[1.0, 0.9444444444444444, 1.0, 1.0, 1.0, 1.0, ...</td>\n",
       "      <td>0.993056</td>\n",
       "      <td>(alcohol, magnesium, flavanoids, color_intensi...</td>\n",
       "      <td>0.0160139</td>\n",
       "      <td>0.0183733</td>\n",
       "      <td>0.00694444</td>\n",
       "    </tr>\n",
       "    <tr>\n",
       "      <th>6</th>\n",
       "      <td>(0, 1, 4, 6, 9, 11)</td>\n",
       "      <td>[1.0, 0.9444444444444444, 0.9444444444444444, ...</td>\n",
       "      <td>0.986111</td>\n",
       "      <td>(alcohol, malic_acid, magnesium, flavanoids, c...</td>\n",
       "      <td>0.0209671</td>\n",
       "      <td>0.0240563</td>\n",
       "      <td>0.00909241</td>\n",
       "    </tr>\n",
       "    <tr>\n",
       "      <th>7</th>\n",
       "      <td>(0, 1, 4, 6, 7, 9, 11)</td>\n",
       "      <td>[1.0, 0.9444444444444444, 1.0, 1.0, 1.0, 1.0, ...</td>\n",
       "      <td>0.993056</td>\n",
       "      <td>(alcohol, malic_acid, magnesium, flavanoids, n...</td>\n",
       "      <td>0.0160139</td>\n",
       "      <td>0.0183733</td>\n",
       "      <td>0.00694444</td>\n",
       "    </tr>\n",
       "  </tbody>\n",
       "</table>\n",
       "</div>"
      ],
      "text/plain": [
       "              feature_idx                                          cv_scores  \\\n",
       "1                    (6,)  [0.8333333333333334, 0.6666666666666666, 0.888...   \n",
       "2                  (6, 9)  [0.9444444444444444, 0.8888888888888888, 1.0, ...   \n",
       "3               (4, 6, 9)  [0.9444444444444444, 1.0, 1.0, 1.0, 1.0, 0.944...   \n",
       "4            (0, 4, 6, 9)  [1.0, 0.9444444444444444, 1.0, 1.0, 1.0, 0.944...   \n",
       "5        (0, 4, 6, 9, 11)  [1.0, 0.9444444444444444, 1.0, 1.0, 1.0, 1.0, ...   \n",
       "6     (0, 1, 4, 6, 9, 11)  [1.0, 0.9444444444444444, 0.9444444444444444, ...   \n",
       "7  (0, 1, 4, 6, 7, 9, 11)  [1.0, 0.9444444444444444, 1.0, 1.0, 1.0, 1.0, ...   \n",
       "\n",
       "  avg_score                                      feature_names   ci_bound  \\\n",
       "1  0.781863                                      (flavanoids,)   0.066689   \n",
       "2  0.957925                      (flavanoids, color_intensity)  0.0321759   \n",
       "3  0.986111           (magnesium, flavanoids, color_intensity)  0.0209671   \n",
       "4  0.986111  (alcohol, magnesium, flavanoids, color_intensity)  0.0209671   \n",
       "5  0.993056  (alcohol, magnesium, flavanoids, color_intensi...  0.0160139   \n",
       "6  0.986111  (alcohol, malic_acid, magnesium, flavanoids, c...  0.0209671   \n",
       "7  0.993056  (alcohol, malic_acid, magnesium, flavanoids, n...  0.0160139   \n",
       "\n",
       "     std_dev     std_err  \n",
       "1  0.0765144   0.0289197  \n",
       "2  0.0369164   0.0139531  \n",
       "3  0.0240563  0.00909241  \n",
       "4  0.0240563  0.00909241  \n",
       "5  0.0183733  0.00694444  \n",
       "6  0.0240563  0.00909241  \n",
       "7  0.0183733  0.00694444  "
      ]
     },
     "execution_count": 37,
     "metadata": {},
     "output_type": "execute_result"
    }
   ],
   "source": [
    "pd.DataFrame.from_dict(sfs.get_metric_dict()).T"
   ]
  },
  {
   "cell_type": "code",
   "execution_count": null,
   "metadata": {},
   "outputs": [],
   "source": []
  },
  {
   "cell_type": "markdown",
   "metadata": {},
   "source": [
    "### STEP BACKWARD SELECTION (SBS)"
   ]
  },
  {
   "cell_type": "code",
   "execution_count": 40,
   "metadata": {},
   "outputs": [
    {
     "name": "stderr",
     "output_type": "stream",
     "text": [
      "C:\\Users\\Asus\\anaconda3\\lib\\site-packages\\sklearn\\model_selection\\_validation.py:531: DataConversionWarning: A column-vector y was passed when a 1d array was expected. Please change the shape of y to (n_samples,), for example using ravel().\n",
      "  estimator.fit(X_train, y_train, **fit_params)\n",
      "C:\\Users\\Asus\\anaconda3\\lib\\site-packages\\sklearn\\model_selection\\_validation.py:531: DataConversionWarning: A column-vector y was passed when a 1d array was expected. Please change the shape of y to (n_samples,), for example using ravel().\n",
      "  estimator.fit(X_train, y_train, **fit_params)\n",
      "C:\\Users\\Asus\\anaconda3\\lib\\site-packages\\sklearn\\model_selection\\_validation.py:531: DataConversionWarning: A column-vector y was passed when a 1d array was expected. Please change the shape of y to (n_samples,), for example using ravel().\n",
      "  estimator.fit(X_train, y_train, **fit_params)\n",
      "C:\\Users\\Asus\\anaconda3\\lib\\site-packages\\sklearn\\model_selection\\_validation.py:531: DataConversionWarning: A column-vector y was passed when a 1d array was expected. Please change the shape of y to (n_samples,), for example using ravel().\n",
      "  estimator.fit(X_train, y_train, **fit_params)\n",
      "C:\\Users\\Asus\\anaconda3\\lib\\site-packages\\sklearn\\model_selection\\_validation.py:531: DataConversionWarning: A column-vector y was passed when a 1d array was expected. Please change the shape of y to (n_samples,), for example using ravel().\n",
      "  estimator.fit(X_train, y_train, **fit_params)\n",
      "[Parallel(n_jobs=-5)]: Using backend LokyBackend with 4 concurrent workers.\n",
      "[Parallel(n_jobs=-5)]: Done  13 out of  13 | elapsed:    5.0s remaining:    0.0s\n",
      "[Parallel(n_jobs=-5)]: Done  13 out of  13 | elapsed:    5.0s finished\n",
      "\n",
      "[2021-02-11 09:56:17] Features: 12/1 -- score: 0.993103448275862[Parallel(n_jobs=-5)]: Using backend LokyBackend with 4 concurrent workers.\n",
      "[Parallel(n_jobs=-5)]: Done  12 out of  12 | elapsed:    3.6s remaining:    0.0s\n",
      "[Parallel(n_jobs=-5)]: Done  12 out of  12 | elapsed:    3.6s finished\n",
      "\n",
      "[2021-02-11 09:56:21] Features: 11/1 -- score: 0.993103448275862[Parallel(n_jobs=-5)]: Using backend LokyBackend with 4 concurrent workers.\n",
      "[Parallel(n_jobs=-5)]: Done  11 out of  11 | elapsed:    3.7s finished\n",
      "\n",
      "[2021-02-11 09:56:25] Features: 10/1 -- score: 0.993103448275862[Parallel(n_jobs=-5)]: Using backend LokyBackend with 4 concurrent workers.\n",
      "[Parallel(n_jobs=-5)]: Done  10 out of  10 | elapsed:    3.5s finished\n",
      "\n",
      "[2021-02-11 09:56:29] Features: 9/1 -- score: 0.993103448275862[Parallel(n_jobs=-5)]: Using backend LokyBackend with 4 concurrent workers.\n",
      "[Parallel(n_jobs=-5)]: Done   7 out of   9 | elapsed:    2.7s remaining:    0.7s\n",
      "[Parallel(n_jobs=-5)]: Done   9 out of   9 | elapsed:    3.7s finished\n",
      "\n",
      "[2021-02-11 09:56:32] Features: 8/1 -- score: 0.993103448275862[Parallel(n_jobs=-5)]: Using backend LokyBackend with 4 concurrent workers.\n",
      "[Parallel(n_jobs=-5)]: Done   6 out of   8 | elapsed:    2.5s remaining:    0.8s\n",
      "[Parallel(n_jobs=-5)]: Done   8 out of   8 | elapsed:    2.6s finished\n",
      "\n",
      "[2021-02-11 09:56:35] Features: 7/1 -- score: 0.9862068965517242[Parallel(n_jobs=-5)]: Using backend LokyBackend with 4 concurrent workers.\n",
      "[Parallel(n_jobs=-5)]: Done   4 out of   7 | elapsed:    1.2s remaining:    0.9s\n",
      "[Parallel(n_jobs=-5)]: Done   7 out of   7 | elapsed:    2.2s finished\n",
      "\n",
      "[2021-02-11 09:56:37] Features: 6/1 -- score: 0.993103448275862[Parallel(n_jobs=-5)]: Using backend LokyBackend with 4 concurrent workers.\n",
      "[Parallel(n_jobs=-5)]: Done   3 out of   6 | elapsed:    1.1s remaining:    1.1s\n",
      "[Parallel(n_jobs=-5)]: Done   6 out of   6 | elapsed:    1.8s finished\n",
      "\n",
      "[2021-02-11 09:56:39] Features: 5/1 -- score: 0.9859605911330049[Parallel(n_jobs=-5)]: Using backend LokyBackend with 4 concurrent workers.\n",
      "[Parallel(n_jobs=-5)]: Done   5 out of   5 | elapsed:    1.6s finished\n",
      "\n",
      "[2021-02-11 09:56:41] Features: 4/1 -- score: 0.9573891625615764[Parallel(n_jobs=-5)]: Using backend LokyBackend with 4 concurrent workers.\n",
      "[Parallel(n_jobs=-5)]: Done   4 out of   4 | elapsed:    1.0s finished\n",
      "\n",
      "[2021-02-11 09:56:42] Features: 3/1 -- score: 0.9502463054187194[Parallel(n_jobs=-5)]: Using backend LokyBackend with 4 concurrent workers.\n",
      "[Parallel(n_jobs=-5)]: Done   3 out of   3 | elapsed:    0.9s finished\n",
      "\n",
      "[2021-02-11 09:56:43] Features: 2/1 -- score: 0.9433497536945812[Parallel(n_jobs=-5)]: Using backend LokyBackend with 4 concurrent workers.\n",
      "[Parallel(n_jobs=-5)]: Done   2 out of   2 | elapsed:    0.7s finished\n",
      "\n",
      "[2021-02-11 09:56:44] Features: 1/1 -- score: 0.6618226600985222"
     ]
    }
   ],
   "source": [
    "sfs = SFS(RandomForestClassifier(n_estimators = 100, random_state = 0, n_jobs = -5 ),\n",
    "         k_features = (1,8),\n",
    "         forward = False,\n",
    "         floating = False,\n",
    "          verbose = 2,\n",
    "          scoring = 'accuracy',\n",
    "          cv = 5,\n",
    "          n_jobs = -5\n",
    "         ).fit(X_train, y_train)"
   ]
  },
  {
   "cell_type": "code",
   "execution_count": 41,
   "metadata": {},
   "outputs": [],
   "source": [
    "sbs = sfs"
   ]
  },
  {
   "cell_type": "code",
   "execution_count": 42,
   "metadata": {},
   "outputs": [
    {
     "data": {
      "text/plain": [
       "0.993103448275862"
      ]
     },
     "execution_count": 42,
     "metadata": {},
     "output_type": "execute_result"
    }
   ],
   "source": [
    "sbs.k_score_"
   ]
  },
  {
   "cell_type": "code",
   "execution_count": 44,
   "metadata": {},
   "outputs": [
    {
     "data": {
      "text/plain": [
       "('alcohol',\n",
       " 'malic_acid',\n",
       " 'ash',\n",
       " 'magnesium',\n",
       " 'total_phenols',\n",
       " 'proanthocyanins',\n",
       " 'color_intensity',\n",
       " 'od280/od315_of_diluted_wines')"
      ]
     },
     "execution_count": 44,
     "metadata": {},
     "output_type": "execute_result"
    }
   ],
   "source": [
    "sbs.k_feature_names_"
   ]
  },
  {
   "cell_type": "markdown",
   "metadata": {},
   "source": [
    "## Exhaustive Feature Selection (EFS)"
   ]
  },
  {
   "cell_type": "code",
   "execution_count": 46,
   "metadata": {},
   "outputs": [
    {
     "name": "stderr",
     "output_type": "stream",
     "text": [
      "Features: 2002/2002"
     ]
    }
   ],
   "source": [
    "from mlxtend.feature_selection import ExhaustiveFeatureSelector as EFS\n",
    "efs = EFS(RandomForestClassifier(n_estimators=100, random_state = 0, n_jobs = -1),\n",
    "         min_features = 4,\n",
    "         max_features = 5,\n",
    "         scoring = 'accuracy',\n",
    "         cv = None, \n",
    "         n_jobs = -1).fit(X_train, y_train)"
   ]
  },
  {
   "cell_type": "raw",
   "metadata": {},
   "source": [
    "##combinasi\n",
    "\n",
    "C(13,4) + C(13,5) = 715 + 1287"
   ]
  },
  {
   "cell_type": "code",
   "execution_count": 48,
   "metadata": {},
   "outputs": [
    {
     "data": {
      "text/plain": [
       "2002"
      ]
     },
     "execution_count": 48,
     "metadata": {},
     "output_type": "execute_result"
    }
   ],
   "source": [
    "715 + 1287"
   ]
  },
  {
   "cell_type": "code",
   "execution_count": 49,
   "metadata": {},
   "outputs": [
    {
     "data": {
      "text/plain": [
       "1.0"
      ]
     },
     "execution_count": 49,
     "metadata": {},
     "output_type": "execute_result"
    }
   ],
   "source": [
    "## 2002 set features\n",
    "\n",
    "efs.best_score_"
   ]
  },
  {
   "cell_type": "code",
   "execution_count": 52,
   "metadata": {},
   "outputs": [
    {
     "data": {
      "text/plain": [
       "('alcohol', 'malic_acid', 'ash', 'alcalinity_of_ash')"
      ]
     },
     "execution_count": 52,
     "metadata": {},
     "output_type": "execute_result"
    }
   ],
   "source": [
    "efs.best_feature_names_"
   ]
  },
  {
   "cell_type": "code",
   "execution_count": 53,
   "metadata": {},
   "outputs": [
    {
     "data": {
      "text/plain": [
       "(0, 1, 2, 3)"
      ]
     },
     "execution_count": 53,
     "metadata": {},
     "output_type": "execute_result"
    }
   ],
   "source": [
    "efs.best_idx_"
   ]
  },
  {
   "cell_type": "code",
   "execution_count": 54,
   "metadata": {},
   "outputs": [],
   "source": [
    "from mlxtend.plotting import plot_sequential_feature_selection as plot_sfs"
   ]
  },
  {
   "cell_type": "code",
   "execution_count": 55,
   "metadata": {},
   "outputs": [
    {
     "name": "stderr",
     "output_type": "stream",
     "text": [
      "C:\\Users\\Asus\\anaconda3\\lib\\site-packages\\numpy\\core\\_methods.py:233: RuntimeWarning: Degrees of freedom <= 0 for slice\n",
      "  ret = _var(a, axis=axis, dtype=dtype, out=out, ddof=ddof,\n",
      "C:\\Users\\Asus\\anaconda3\\lib\\site-packages\\numpy\\core\\_methods.py:226: RuntimeWarning: invalid value encountered in double_scalars\n",
      "  ret = ret.dtype.type(ret / rcount)\n"
     ]
    },
    {
     "data": {
      "text/plain": [
       "(<Figure size 432x288 with 1 Axes>,\n",
       " <AxesSubplot:xlabel='Number of Features', ylabel='Performance'>)"
      ]
     },
     "execution_count": 55,
     "metadata": {},
     "output_type": "execute_result"
    },
    {
     "data": {
      "image/png": "[encoded data removed]",
      "text/plain": [
       "<Figure size 432x288 with 1 Axes>"
      ]
     },
     "metadata": {
      "needs_background": "light"
     },
     "output_type": "display_data"
    }
   ],
   "source": [
    "plot_sfs(efs.get_metric_dict(), kind='std_dev')"
   ]
  },
  {
   "cell_type": "code",
   "execution_count": null,
   "metadata": {},
   "outputs": [],
   "source": []
  }
 ],
 "metadata": {
  "kernelspec": {
   "display_name": "Python 3",
   "language": "python",
   "name": "python3"
  },
  "language_info": {
   "codemirror_mode": {
    "name": "ipython",
    "version": 3
   },
   "file_extension": ".py",
   "mimetype": "text/x-python",
   "name": "python",
   "nbconvert_exporter": "python",
   "pygments_lexer": "ipython3",
   "version": "3.8.5"
  }
 },
 "nbformat": 4,
 "nbformat_minor": 4
}
